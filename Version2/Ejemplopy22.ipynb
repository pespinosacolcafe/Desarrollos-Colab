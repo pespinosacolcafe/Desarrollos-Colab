{
  "nbformat": 4,
  "nbformat_minor": 0,
  "metadata": {
    "colab": {
      "provenance": [],
      "toc_visible": true,
      "authorship_tag": "ABX9TyNFS5eLuY6PTEh0njYzr9YP",
      "include_colab_link": true
    },
    "kernelspec": {
      "name": "python3",
      "display_name": "Python 3"
    },
    "language_info": {
      "name": "python"
    }
  },
  "cells": [
    {
      "cell_type": "markdown",
      "metadata": {
        "id": "view-in-github",
        "colab_type": "text"
      },
      "source": [
        "<a href=\"https://colab.research.google.com/github/pespinosacolcafe/Desarrollos-Colab/blob/main/Version2/Ejemplopy22.ipynb\" target=\"_parent\"><img src=\"https://colab.research.google.com/assets/colab-badge.svg\" alt=\"Open In Colab\"/></a>"
      ]
    },
    {
      "cell_type": "code",
      "execution_count": null,
      "metadata": {
        "id": "oZzTR-5i6Szi"
      },
      "outputs": [],
      "source": [
        "import matplotlib.pyplot as plt\n",
        "import numpy as np\n",
        "\n",
        "# Generar datos de ejemplo\n",
        "x = np.linspace(0, 10, 100)\n",
        "y = np.sin(x)\n",
        "\n",
        "# Crear el gráfico\n",
        "plt.figure(figsize=(8, 6))  # Establecer el tamaño de la figura\n",
        "plt.plot(x, y, label='sin(x)')  # Trazar la función seno\n",
        "plt.title('Gráfico de la función seno')  # Agregar un título\n",
        "plt.xlabel('Eje x')  # Agregar etiqueta al eje x\n",
        "plt.ylabel('Eje y')  # Agregar etiqueta al eje y\n",
        "plt.legend()  # Mostrar la leyenda\n",
        "plt.grid(True)  # Mostrar la cuadrícula\n",
        "plt.show()  # Mostrar el gráfico\n",
        "\n",
        "def funcion_seno(x):\n",
        "    return np.sin(x)\n",
        "\n",
        "def funcion_cos(x):\n",
        "  return \"\""
      ]
    }
  ]
}